{
 "cells": [
  {
   "cell_type": "markdown",
   "metadata": {},
   "source": [
    "Roosevelt University"
   ]
  },
  {
   "cell_type": "markdown",
   "metadata": {},
   "source": [
    "https://www.roosevelt.edu/contact/directory?txtSearch=&ddlGroupSearch%5B%5D=1&ddlCollegeSearch=All&ddlInstrumentSearch=All&ddlDepartmentSearch=678"
   ]
  },
  {
   "cell_type": "markdown",
   "metadata": {},
   "source": [
    "**bibliotecas**"
   ]
  },
  {
   "cell_type": "code",
   "execution_count": 6,
   "metadata": {},
   "outputs": [],
   "source": [
    "import pandas as pd\n",
    "from selenium import webdriver\n",
    "from selenium.webdriver.chrome.service import Service\n",
    "from bs4 import BeautifulSoup"
   ]
  },
  {
   "cell_type": "markdown",
   "metadata": {},
   "source": [
    "**Inicializando uma istancia do Google Chrome**"
   ]
  },
  {
   "cell_type": "code",
   "execution_count": 34,
   "metadata": {},
   "outputs": [],
   "source": [
    "# Initialize function\n",
    "service = Service()\n",
    "\n",
    "# Set preferences for Chrome\n",
    "options = webdriver.ChromeOptions()\n",
    "\n",
    "# Start\n",
    "driver = webdriver.Chrome(service=service, options=options)\n"
   ]
  },
  {
   "cell_type": "code",
   "execution_count": 35,
   "metadata": {},
   "outputs": [],
   "source": [
    "url = \"https://www.roosevelt.edu/contact/directory?txtSearch=&ddlGroupSearch%5B%5D=1&ddlCollegeSearch=All&ddlInstrumentSearch=All&ddlDepartmentSearch=678\"\n",
    "driver.get(url)\n",
    "\n",
    "driver.implicitly_wait(10)  # Wait 10 seconds "
   ]
  },
  {
   "cell_type": "code",
   "execution_count": 36,
   "metadata": {},
   "outputs": [],
   "source": [
    "# Get the HTML of the page after it has loaded completely\n",
    "html = driver.page_source\n",
    "\n",
    "# Parse the HTML using BeautifulSoup\n",
    "soup = BeautifulSoup(html, \"html.parser\")\n"
   ]
  },
  {
   "cell_type": "markdown",
   "metadata": {},
   "source": [
    "**Encontrando os nomes dos professores com BS**"
   ]
  },
  {
   "cell_type": "code",
   "execution_count": 37,
   "metadata": {},
   "outputs": [],
   "source": [
    "# Find all divs with class \"indFacultyListing-infoContainer\"\n",
    "divs_professors = soup.find_all(\"div\", class_=\"indFacultyListing-infoContainer\")\n",
    "\n",
    "# List to store the data of professors\n",
    "data_professors = []"
   ]
  },
  {
   "cell_type": "code",
   "execution_count": 45,
   "metadata": {},
   "outputs": [
    {
     "name": "stdout",
     "output_type": "stream",
     "text": [
      "                     Name                                               Link  \\\n",
      "0          Evgeny Dantsin         https://www.roosevelt.edu/profile/edantsin   \n",
      "1  Saba Jamaliannasrabadi  https://www.roosevelt.edu/profile/sjamaliannas...   \n",
      "2            Michael Ruth            https://www.roosevelt.edu/profile/mruth   \n",
      "3           Rami Salahieh        https://www.roosevelt.edu/profile/msalahieh   \n",
      "4            Alex Wolpert         https://www.roosevelt.edu/profile/awolpert   \n",
      "5              Ray Wright          https://www.roosevelt.edu/profile/rwright   \n",
      "\n",
      "                              Email         Phone  \n",
      "0            edantsin@roosevelt.edu  312-281-3121  \n",
      "1  sjamaliannasrabadi@roosevelt.edu           NaN  \n",
      "2               mruth@roosevelt.edu  312-281-3303  \n",
      "3           msalahieh@roosevelt.edu           NaN  \n",
      "4            awolpert@roosevelt.edu  312-281-3120  \n",
      "5             rwright@roosevelt.edu           NaN  \n"
     ]
    }
   ],
   "source": [
    "# List to store the data of professors\n",
    "data_professors = []\n",
    "\n",
    "# Iterate over the divs of professors\n",
    "for div_professor in divs_professors:\n",
    "\n",
    "    #NAME\n",
    "    nome_professor = div_professor.find(\"div\", class_=\"indDirectoryListing-name\").find(\"span\").get_text(strip=True)\n",
    "    \n",
    "    #LINK\n",
    "    link_professor = div_professor.find(\"a\", title=\"View {}'s Faculty Profile\".format(nome_professor.strip())).get(\"href\")\n",
    "    \n",
    "    # Get the full URL \n",
    "    full_link_professor = \"https://www.roosevelt.edu\" + link_professor\n",
    "    \n",
    "    # Open the professor's profile page with Selenium\n",
    "    driver.get(full_link_professor)\n",
    "    \n",
    "    # Wait for the page to load completely\n",
    "    driver.implicitly_wait(10)\n",
    "    \n",
    "    # Get the HTML of the profile page after it has loaded completely\n",
    "    profile_html = driver.page_source\n",
    "    \n",
    "    # Parse the HTML using BeautifulSoup\n",
    "    profile_soup = BeautifulSoup(profile_html, \"html.parser\")\n",
    "\n",
    "    #EMAIL\n",
    "    email_prefessor = profile_soup.find('div', class_='field_email').find('a').text.strip()\n",
    "\n",
    "    #PHONE\n",
    "    phone_element = profile_soup.find('div', class_='field_primary_phone')\n",
    "\n",
    "    if phone_element:\n",
    "        phone_professor = phone_element.find('a').text.strip()\n",
    "    else:\n",
    "        phone_professor = \"NaN\"\n",
    "\n",
    "        \n",
    "    data_professors.append({\n",
    "        \"Name\": nome_professor,\n",
    "        \"Link\": full_link_professor,\n",
    "        \"Email\": email_prefessor,\n",
    "        \"Phone\": phone_professor,\n",
    "    })\n",
    "\n",
    "# Create a Pandas DataFrame with the data of professors\n",
    "df_professors = pd.DataFrame(data_professors)\n",
    "\n",
    "# Print the DataFrame\n",
    "print(df_professors)\n",
    "   \n"
   ]
  },
  {
   "cell_type": "code",
   "execution_count": 30,
   "metadata": {},
   "outputs": [],
   "source": [
    "# Salvar o DataFrame em um arquivo CSV\n",
    "df_professors.to_csv(\"df_professors.csv\", index=False)\n"
   ]
  },
  {
   "cell_type": "code",
   "execution_count": 20,
   "metadata": {},
   "outputs": [],
   "source": [
    "# Create a Pandas DataFrame with the data of professors\n",
    "df_professors = pd.DataFrame(data_professors)\n",
    "\n",
    "# Save the DataFrame directly to an Excel sheet\n",
    "with pd.ExcelWriter('df_professors.xlsx', engine='xlsxwriter') as writer:\n",
    "    df_professors.to_excel(writer, sheet_name='Sheet1', index=False)\n"
   ]
  }
 ],
 "metadata": {
  "kernelspec": {
   "display_name": "Python 3",
   "language": "python",
   "name": "python3"
  },
  "language_info": {
   "codemirror_mode": {
    "name": "ipython",
    "version": 3
   },
   "file_extension": ".py",
   "mimetype": "text/x-python",
   "name": "python",
   "nbconvert_exporter": "python",
   "pygments_lexer": "ipython3",
   "version": "3.12.2"
  }
 },
 "nbformat": 4,
 "nbformat_minor": 2
}
