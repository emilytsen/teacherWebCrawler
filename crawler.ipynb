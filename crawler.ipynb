{
 "cells": [
  {
   "cell_type": "markdown",
   "metadata": {},
   "source": [
    "Roosevelt University"
   ]
  },
  {
   "cell_type": "markdown",
   "metadata": {},
   "source": [
    "https://www.roosevelt.edu/contact/directory?txtSearch=&ddlGroupSearch%5B%5D=1&ddlCollegeSearch=All&ddlInstrumentSearch=All&ddlDepartmentSearch=678"
   ]
  },
  {
   "cell_type": "markdown",
   "metadata": {},
   "source": [
    "**bibliotecas**"
   ]
  },
  {
   "cell_type": "code",
   "execution_count": 1,
   "metadata": {},
   "outputs": [],
   "source": [
    "import pandas as pd\n",
    "from selenium import webdriver\n",
    "from selenium.webdriver.chrome.service import Service\n",
    "from bs4 import BeautifulSoup"
   ]
  },
  {
   "cell_type": "markdown",
   "metadata": {},
   "source": [
    "**Inicializando uma istancia do Google Chrome**"
   ]
  },
  {
   "cell_type": "code",
   "execution_count": 2,
   "metadata": {},
   "outputs": [],
   "source": [
    "# Initialize function\n",
    "service = Service()\n",
    "\n",
    "# Set preferences for Chrome\n",
    "options = webdriver.ChromeOptions()\n",
    "\n",
    "# Start\n",
    "driver = webdriver.Chrome(service=service, options=options)\n"
   ]
  },
  {
   "cell_type": "code",
   "execution_count": 3,
   "metadata": {},
   "outputs": [],
   "source": [
    "url = \"https://www.roosevelt.edu/contact/directory?txtSearch=&ddlGroupSearch%5B%5D=1&ddlCollegeSearch=All&ddlInstrumentSearch=All&ddlDepartmentSearch=678\"\n",
    "driver.get(url)\n",
    "\n",
    "driver.implicitly_wait(10)  # Wait 10 seconds "
   ]
  },
  {
   "cell_type": "code",
   "execution_count": 4,
   "metadata": {},
   "outputs": [],
   "source": [
    "# Get the HTML of the page after it has loaded completely\n",
    "html = driver.page_source\n",
    "\n",
    "# Parse the HTML using BeautifulSoup\n",
    "soup = BeautifulSoup(html, \"html.parser\")\n"
   ]
  },
  {
   "cell_type": "markdown",
   "metadata": {},
   "source": [
    "**Encontrando os nomes dos professores com BS**"
   ]
  },
  {
   "cell_type": "code",
   "execution_count": 5,
   "metadata": {},
   "outputs": [],
   "source": [
    "# Find all divs with class \"indFacultyListing-infoContainer\"\n",
    "divs_professors = soup.find_all(\"div\", class_=\"indFacultyListing-infoContainer\")\n",
    "\n",
    "# List to store the data of professors\n",
    "data_professors = []"
   ]
  },
  {
   "cell_type": "code",
   "execution_count": 14,
   "metadata": {},
   "outputs": [],
   "source": [
    "# List to store the data of professors\n",
    "data_professors = []\n",
    "# Iterate over the divs of professors\n",
    "for div_professor in divs_professors:\n",
    "    # Extract the name of the professor\n",
    "    nome_professor = div_professor.find(\"div\", class_=\"indDirectoryListing-name\").find(\"span\").get_text(strip=True)\n",
    "    \n",
    "    # Extract the link of the professor\n",
    "    link_professor = div_professor.find(\"a\", title=\"View {}'s Faculty Profile\".format(nome_professor.strip())).get(\"href\")\n",
    "    \n",
    "    # Get the full URL by combining the base URL and the extracted link\n",
    "    full_link_professor = \"https://www.roosevelt.edu\" + link_professor\n",
    "    \n",
    "    # Add the data of the professor to the list\n",
    "    data_professors.append({\"Name\": nome_professor, \"Link\": full_link_professor})\n"
   ]
  },
  {
   "cell_type": "code",
   "execution_count": 15,
   "metadata": {},
   "outputs": [
    {
     "name": "stdout",
     "output_type": "stream",
     "text": [
      "                     Name                                               Link\n",
      "0          Evgeny Dantsin         https://www.roosevelt.edu/profile/edantsin\n",
      "1  Saba Jamaliannasrabadi  https://www.roosevelt.edu/profile/sjamaliannas...\n",
      "2            Michael Ruth            https://www.roosevelt.edu/profile/mruth\n",
      "3           Rami Salahieh        https://www.roosevelt.edu/profile/msalahieh\n",
      "4            Alex Wolpert         https://www.roosevelt.edu/profile/awolpert\n",
      "5              Ray Wright          https://www.roosevelt.edu/profile/rwright\n"
     ]
    }
   ],
   "source": [
    "# Create a Pandas DataFrame with the data of professors\n",
    "df_professors = pd.DataFrame(data_professors)\n",
    "\n",
    "# Print the DataFrame\n",
    "print(df_professors)"
   ]
  },
  {
   "cell_type": "code",
   "execution_count": 17,
   "metadata": {},
   "outputs": [],
   "source": [
    "# Save the DataFrame directly to an Excel sheet\n",
    "with pd.ExcelWriter('df_professors.xlsx', engine='xlsxwriter') as writer:\n",
    "    df_professors.to_excel(writer, sheet_name='Sheet1', index=False)"
   ]
  }
 ],
 "metadata": {
  "kernelspec": {
   "display_name": "Python 3",
   "language": "python",
   "name": "python3"
  },
  "language_info": {
   "codemirror_mode": {
    "name": "ipython",
    "version": 3
   },
   "file_extension": ".py",
   "mimetype": "text/x-python",
   "name": "python",
   "nbconvert_exporter": "python",
   "pygments_lexer": "ipython3",
   "version": "3.12.2"
  }
 },
 "nbformat": 4,
 "nbformat_minor": 2
}
