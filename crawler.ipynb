{
 "cells": [
  {
   "cell_type": "markdown",
   "metadata": {},
   "source": [
    "Roosevelt University"
   ]
  },
  {
   "cell_type": "markdown",
   "metadata": {},
   "source": [
    "https://www.roosevelt.edu/contact/directory?txtSearch=&ddlGroupSearch%5B%5D=1&ddlCollegeSearch=All&ddlInstrumentSearch=All&ddlDepartmentSearch=678"
   ]
  },
  {
   "cell_type": "markdown",
   "metadata": {},
   "source": [
    "**Libraries**"
   ]
  },
  {
   "cell_type": "code",
   "execution_count": 28,
   "metadata": {},
   "outputs": [],
   "source": [
    "import pandas as pd\n",
    "from selenium import webdriver\n",
    "from selenium.webdriver.chrome.service import Service\n",
    "from bs4 import BeautifulSoup"
   ]
  },
  {
   "cell_type": "markdown",
   "metadata": {},
   "source": [
    "**Initializing an instance of Google Chrome.**"
   ]
  },
  {
   "cell_type": "code",
   "execution_count": 29,
   "metadata": {},
   "outputs": [],
   "source": [
    "# Initialize function\n",
    "service = Service()\n",
    "\n",
    "# Set preferences for Chrome\n",
    "options = webdriver.ChromeOptions()\n",
    "\n",
    "# Start\n",
    "driver = webdriver.Chrome(service=service, options=options)\n"
   ]
  },
  {
   "cell_type": "code",
   "execution_count": 30,
   "metadata": {},
   "outputs": [],
   "source": [
    "url = \"https://www.roosevelt.edu/contact/directory?txtSearch=&ddlGroupSearch%5B%5D=1&ddlCollegeSearch=All&ddlInstrumentSearch=All&ddlDepartmentSearch=678\"\n",
    "driver.get(url)\n",
    "\n",
    "driver.implicitly_wait(10)  # Wait 10 seconds "
   ]
  },
  {
   "cell_type": "code",
   "execution_count": 31,
   "metadata": {},
   "outputs": [],
   "source": [
    "# Get the HTML of the page after it has loaded completely\n",
    "html = driver.page_source\n",
    "\n",
    "# Parse the HTML using BeautifulSoup\n",
    "soup = BeautifulSoup(html, \"html.parser\")\n"
   ]
  },
  {
   "cell_type": "markdown",
   "metadata": {},
   "source": [
    "**Finding the professors' names with BS.**"
   ]
  },
  {
   "cell_type": "code",
   "execution_count": 32,
   "metadata": {},
   "outputs": [],
   "source": [
    "# Find all divs with class \"indFacultyListing-infoContainer\"\n",
    "divs_professors = soup.find_all(\"div\", class_=\"indFacultyListing-infoContainer\")\n",
    "\n",
    "# List to store the data of professors\n",
    "data_professors = []"
   ]
  },
  {
   "cell_type": "code",
   "execution_count": 44,
   "metadata": {},
   "outputs": [
    {
     "name": "stdout",
     "output_type": "stream",
     "text": [
      "                     Name                                               Link  \\\n",
      "0          Evgeny Dantsin         https://www.roosevelt.edu/profile/edantsin   \n",
      "1  Saba Jamaliannasrabadi  https://www.roosevelt.edu/profile/sjamaliannas...   \n",
      "2            Michael Ruth            https://www.roosevelt.edu/profile/mruth   \n",
      "3           Rami Salahieh        https://www.roosevelt.edu/profile/msalahieh   \n",
      "4            Alex Wolpert         https://www.roosevelt.edu/profile/awolpert   \n",
      "5              Ray Wright          https://www.roosevelt.edu/profile/rwright   \n",
      "\n",
      "                                College                             Email  \n",
      "0  » \\n    \\n          Computer Science            edantsin@roosevelt.edu  \n",
      "1  » \\n    \\n          Computer Science  sjamaliannasrabadi@roosevelt.edu  \n",
      "2  » \\n    \\n          Computer Science               mruth@roosevelt.edu  \n",
      "3  » \\n    \\n          Computer Science           msalahieh@roosevelt.edu  \n",
      "4  » \\n    \\n          Computer Science            awolpert@roosevelt.edu  \n",
      "5  » \\n    \\n          Computer Science             rwright@roosevelt.edu  \n"
     ]
    }
   ],
   "source": [
    "data_professors = []\n",
    "\n",
    "\n",
    "for div_professor in divs_professors:\n",
    "\n",
    "    #NAME\n",
    "    nome_professor = div_professor.find(\"div\", class_=\"indDirectoryListing-name\").find(\"span\").get_text(strip=True)\n",
    "    \n",
    "    #LINK\n",
    "    link_professor = div_professor.find(\"a\", title=\"View {}'s Faculty Profile\".format(nome_professor.strip())).get(\"href\")\n",
    "    \n",
    "    # Get the full URL \n",
    "    full_link_professor = \"https://www.roosevelt.edu\" + link_professor\n",
    "    \n",
    "    # Open the professor's profile page with Selenium\n",
    "    driver.get(full_link_professor)\n",
    "    \n",
    "    # Wait for the page to load completely\n",
    "    driver.implicitly_wait(10)\n",
    "    \n",
    "    # Get the HTML of the profile page after it has loaded completely\n",
    "    profile_html = driver.page_source\n",
    "    \n",
    "    # Parse the HTML using BeautifulSoup\n",
    "    profile_soup = BeautifulSoup(profile_html, \"html.parser\")\n",
    "\n",
    "    # COLLEGE\n",
    "    college_name_span = profile_soup.find(\"span\", id=\"collegeName\")\n",
    "    college_prefessor = college_name_span.find_next_sibling(\"div\").get_text(strip=True) if college_name_span else \"NaN\"\n",
    "    \n",
    "    #EMAIL\n",
    "    email_prefessor = profile_soup.find('div', class_='field_email').find('a').text.strip()\n",
    "        \n",
    "    data_professors.append({\n",
    "        \"Name\": nome_professor,\n",
    "        \"Link\": full_link_professor,\n",
    "        \"College\": college_prefessor,\n",
    "        \"Email\": email_prefessor,\n",
    "    })\n",
    "\n",
    "\n",
    "df_professors = pd.DataFrame(data_professors)\n",
    "\n",
    "print(df_professors)\n",
    "   \n"
   ]
  },
  {
   "cell_type": "markdown",
   "metadata": {},
   "source": [
    "**Remove extra spaces from the elements.**"
   ]
  },
  {
   "cell_type": "code",
   "execution_count": 42,
   "metadata": {},
   "outputs": [
    {
     "name": "stdout",
     "output_type": "stream",
     "text": [
      "                     Name                                               Link  \\\n",
      "0          Evgeny Dantsin         https://www.roosevelt.edu/profile/edantsin   \n",
      "1  Saba Jamaliannasrabadi  https://www.roosevelt.edu/profile/sjamaliannas...   \n",
      "2            Michael Ruth            https://www.roosevelt.edu/profile/mruth   \n",
      "3           Rami Salahieh        https://www.roosevelt.edu/profile/msalahieh   \n",
      "4            Alex Wolpert         https://www.roosevelt.edu/profile/awolpert   \n",
      "5              Ray Wright          https://www.roosevelt.edu/profile/rwright   \n",
      "\n",
      "              College                             Email  \n",
      "0  » Computer Science            edantsin@roosevelt.edu  \n",
      "1  » Computer Science  sjamaliannasrabadi@roosevelt.edu  \n",
      "2  » Computer Science               mruth@roosevelt.edu  \n",
      "3  » Computer Science           msalahieh@roosevelt.edu  \n",
      "4  » Computer Science            awolpert@roosevelt.edu  \n",
      "5  » Computer Science             rwright@roosevelt.edu  \n"
     ]
    }
   ],
   "source": [
    "\n",
    "#Function to remove extra space\n",
    "def remove_extra_spaces(text):\n",
    "    return ' '.join(text.split())\n",
    "\n",
    "#Aply to college \n",
    "df_professors[\"College\"] = df_professors[\"College\"].apply(remove_extra_spaces)\n",
    "\n",
    "print(df_professors)\n"
   ]
  },
  {
   "cell_type": "markdown",
   "metadata": {},
   "source": [
    "**Saving in a DF for easy viewing**"
   ]
  },
  {
   "cell_type": "code",
   "execution_count": 43,
   "metadata": {},
   "outputs": [],
   "source": [
    "# Salvar o DataFrame em um arquivo CSV\n",
    "df_professors.to_csv(\"df_professors.csv\", index=False)\n"
   ]
  },
  {
   "cell_type": "code",
   "execution_count": 20,
   "metadata": {},
   "outputs": [],
   "source": [
    "# Create a Pandas DataFrame with the data of professors\n",
    "df_professors = pd.DataFrame(data_professors)\n",
    "\n",
    "# Save the DataFrame directly to an Excel sheet\n",
    "with pd.ExcelWriter('df_professors.xlsx', engine='xlsxwriter') as writer:\n",
    "    df_professors.to_excel(writer, sheet_name='Sheet1', index=False)\n"
   ]
  }
 ],
 "metadata": {
  "kernelspec": {
   "display_name": "Python 3",
   "language": "python",
   "name": "python3"
  },
  "language_info": {
   "codemirror_mode": {
    "name": "ipython",
    "version": 3
   },
   "file_extension": ".py",
   "mimetype": "text/x-python",
   "name": "python",
   "nbconvert_exporter": "python",
   "pygments_lexer": "ipython3",
   "version": "3.12.2"
  }
 },
 "nbformat": 4,
 "nbformat_minor": 2
}
