{
 "cells": [
  {
   "cell_type": "markdown",
   "metadata": {},
   "source": [
    "Roosevelt University"
   ]
  },
  {
   "cell_type": "markdown",
   "metadata": {},
   "source": [
    "https://www.roosevelt.edu/contact/directory?txtSearch=&ddlGroupSearch%5B%5D=1&ddlCollegeSearch=All&ddlInstrumentSearch=All&ddlDepartmentSearch=678"
   ]
  },
  {
   "cell_type": "markdown",
   "metadata": {},
   "source": [
    "**Libraries**"
   ]
  },
  {
   "cell_type": "code",
   "execution_count": 1,
   "metadata": {},
   "outputs": [],
   "source": [
    "import pandas as pd\n",
    "from selenium import webdriver\n",
    "from selenium.webdriver.chrome.service import Service\n",
    "from bs4 import BeautifulSoup"
   ]
  },
  {
   "cell_type": "markdown",
   "metadata": {},
   "source": [
    "**Initializing an instance of Google Chrome.**"
   ]
  },
  {
   "cell_type": "code",
   "execution_count": 2,
   "metadata": {},
   "outputs": [],
   "source": [
    "# Initialize function\n",
    "service = Service()\n",
    "\n",
    "# Set preferences for Chrome\n",
    "options = webdriver.ChromeOptions()\n",
    "\n",
    "# Start\n",
    "driver = webdriver.Chrome(service=service, options=options)\n"
   ]
  },
  {
   "cell_type": "code",
   "execution_count": 3,
   "metadata": {},
   "outputs": [],
   "source": [
    "url = \"https://www.roosevelt.edu/contact/directory?txtSearch=&ddlGroupSearch%5B%5D=1&ddlCollegeSearch=All&ddlInstrumentSearch=All&ddlDepartmentSearch=678\"\n",
    "driver.get(url)\n",
    "\n",
    "driver.implicitly_wait(10)  # Wait 10 seconds "
   ]
  },
  {
   "cell_type": "code",
   "execution_count": 4,
   "metadata": {},
   "outputs": [],
   "source": [
    "# Get the HTML of the page after it has loaded completely\n",
    "html = driver.page_source\n",
    "\n",
    "# Parse the HTML using BeautifulSoup\n",
    "soup = BeautifulSoup(html, \"html.parser\")\n"
   ]
  },
  {
   "cell_type": "markdown",
   "metadata": {},
   "source": [
    "**Finding the professors' names with BS.**"
   ]
  },
  {
   "cell_type": "code",
   "execution_count": 5,
   "metadata": {},
   "outputs": [],
   "source": [
    "# Find all divs with class \"indFacultyListing-infoContainer\"\n",
    "divs_professors = soup.find_all(\"div\", class_=\"indFacultyListing-infoContainer\")\n",
    "\n",
    "# List to store the data of professors\n",
    "data_professors = []"
   ]
  },
  {
   "cell_type": "code",
   "execution_count": 18,
   "metadata": {},
   "outputs": [
    {
     "name": "stdout",
     "output_type": "stream",
     "text": [
      "               College                    Name  \\\n",
      "0  Rosevelt University          Evgeny Dantsin   \n",
      "1  Rosevelt University  Saba Jamaliannasrabadi   \n",
      "2  Rosevelt University            Michael Ruth   \n",
      "3  Rosevelt University           Rami Salahieh   \n",
      "4  Rosevelt University            Alex Wolpert   \n",
      "5  Rosevelt University              Ray Wright   \n",
      "\n",
      "                                                Link  \\\n",
      "0         https://www.roosevelt.edu/profile/edantsin   \n",
      "1  https://www.roosevelt.edu/profile/sjamaliannas...   \n",
      "2            https://www.roosevelt.edu/profile/mruth   \n",
      "3        https://www.roosevelt.edu/profile/msalahieh   \n",
      "4         https://www.roosevelt.edu/profile/awolpert   \n",
      "5          https://www.roosevelt.edu/profile/rwright   \n",
      "\n",
      "                                 Course                             Email  \\\n",
      "0  » \\n    \\n          Computer Science            edantsin@roosevelt.edu   \n",
      "1  » \\n    \\n          Computer Science  sjamaliannasrabadi@roosevelt.edu   \n",
      "2  » \\n    \\n          Computer Science               mruth@roosevelt.edu   \n",
      "3  » \\n    \\n          Computer Science           msalahieh@roosevelt.edu   \n",
      "4  » \\n    \\n          Computer Science            awolpert@roosevelt.edu   \n",
      "5  » \\n    \\n          Computer Science             rwright@roosevelt.edu   \n",
      "\n",
      "                                       Research Area  \n",
      "0  theoretical computer sciencePrimary research a...  \n",
      "1                                                NaN  \n",
      "2                               Software Engineering  \n",
      "3                                                NaN  \n",
      "4  Theoretical Computer ScienceTheory of algorith...  \n",
      "5   Bachelor's in Cyber and Information Security, BS  \n"
     ]
    }
   ],
   "source": [
    "data_professors = []\n",
    "\n",
    "for div_professor in divs_professors:\n",
    "\n",
    "    #COLLEGE\n",
    "    college_prefessor = \"Rosevelt University\"\n",
    "\n",
    "    #NAME\n",
    "    nome_professor = div_professor.find(\"div\", class_=\"indDirectoryListing-name\").find(\"span\").get_text(strip=True)\n",
    "    \n",
    "    #LINK\n",
    "    link_professor = div_professor.find(\"a\", title=\"View {}'s Faculty Profile\".format(nome_professor.strip())).get(\"href\")\n",
    "    \n",
    "    # Get the full URL \n",
    "    full_link_professor = \"https://www.roosevelt.edu\" + link_professor\n",
    "    \n",
    "    # Open the professor's profile page with Selenium\n",
    "    driver.get(full_link_professor)\n",
    "    \n",
    "    # Wait for the page to load completely\n",
    "    driver.implicitly_wait(10)\n",
    "    \n",
    "    # Get the HTML of the profile page after it has loaded completely\n",
    "    profile_html = driver.page_source\n",
    "    \n",
    "    # Parse the HTML using BeautifulSoup\n",
    "    profile_soup = BeautifulSoup(profile_html, \"html.parser\")\n",
    "\n",
    "    try:\n",
    "        # COURSE\n",
    "        course_name_span = profile_soup.find(\"span\", id=\"collegeName\")\n",
    "        course_prefessor = course_name_span.find_next_sibling(\"div\").get_text(strip=True)\n",
    "    except AttributeError:\n",
    "        course_prefessor = \"NaN\"\n",
    "\n",
    "    try:\n",
    "        # EMAIL\n",
    "        email_prefessor = profile_soup.find('div', class_='field_email').find('a').text.strip()\n",
    "    except AttributeError:\n",
    "        email_prefessor = \"NaN\"\n",
    "\n",
    "    try:\n",
    "        # RESEARCH AREA\n",
    "        research_area_elem = profile_soup.find('ul', class_='facultyDescription-sectionList').find('li')\n",
    "        \n",
    "        # Extrair o texto da área de pesquisa primária\n",
    "        research_professor = research_area_elem.get_text(strip=True)\n",
    "    except AttributeError:\n",
    "        research_professor = \"NaN\"\n",
    "        \n",
    "    data_professors.append({\n",
    "        \"College\": college_prefessor,\n",
    "        \"Name\": nome_professor,\n",
    "        \"Link\": full_link_professor,\n",
    "        \"Course\": course_prefessor,\n",
    "        \"Email\": email_prefessor,\n",
    "        \"Research Area\": research_professor,\n",
    "    })\n",
    "\n",
    "df_professors = pd.DataFrame(data_professors)\n",
    "\n",
    "print(df_professors)\n"
   ]
  },
  {
   "cell_type": "markdown",
   "metadata": {},
   "source": [
    "**Remove extra spaces from the elements.**"
   ]
  },
  {
   "cell_type": "code",
   "execution_count": 19,
   "metadata": {},
   "outputs": [
    {
     "name": "stdout",
     "output_type": "stream",
     "text": [
      "               College                    Name  \\\n",
      "0  Rosevelt University          Evgeny Dantsin   \n",
      "1  Rosevelt University  Saba Jamaliannasrabadi   \n",
      "2  Rosevelt University            Michael Ruth   \n",
      "3  Rosevelt University           Rami Salahieh   \n",
      "4  Rosevelt University            Alex Wolpert   \n",
      "5  Rosevelt University              Ray Wright   \n",
      "\n",
      "                                                Link              Course  \\\n",
      "0         https://www.roosevelt.edu/profile/edantsin  » Computer Science   \n",
      "1  https://www.roosevelt.edu/profile/sjamaliannas...  » Computer Science   \n",
      "2            https://www.roosevelt.edu/profile/mruth  » Computer Science   \n",
      "3        https://www.roosevelt.edu/profile/msalahieh  » Computer Science   \n",
      "4         https://www.roosevelt.edu/profile/awolpert  » Computer Science   \n",
      "5          https://www.roosevelt.edu/profile/rwright  » Computer Science   \n",
      "\n",
      "                              Email  \\\n",
      "0            edantsin@roosevelt.edu   \n",
      "1  sjamaliannasrabadi@roosevelt.edu   \n",
      "2               mruth@roosevelt.edu   \n",
      "3           msalahieh@roosevelt.edu   \n",
      "4            awolpert@roosevelt.edu   \n",
      "5             rwright@roosevelt.edu   \n",
      "\n",
      "                                       Research Area  \n",
      "0  theoretical computer sciencePrimary research a...  \n",
      "1                                                NaN  \n",
      "2                               Software Engineering  \n",
      "3                                                NaN  \n",
      "4  Theoretical Computer ScienceTheory of algorith...  \n",
      "5   Bachelor's in Cyber and Information Security, BS  \n"
     ]
    }
   ],
   "source": [
    "\n",
    "#Function to remove extra space\n",
    "def remove_extra_spaces(text):\n",
    "    return ' '.join(text.split())\n",
    "\n",
    "#Aply to college \n",
    "df_professors[\"Course\"] = df_professors[\"Course\"].apply(remove_extra_spaces)\n",
    "\n",
    "print(df_professors)\n"
   ]
  },
  {
   "cell_type": "markdown",
   "metadata": {},
   "source": [
    "**Saving in a DF for easy viewing**"
   ]
  },
  {
   "cell_type": "code",
   "execution_count": 14,
   "metadata": {},
   "outputs": [],
   "source": [
    "# Salvar o DataFrame em um arquivo CSV\n",
    "df_professors.to_csv(\"df_professors.csv\", index=False)\n"
   ]
  },
  {
   "cell_type": "code",
   "execution_count": 20,
   "metadata": {},
   "outputs": [],
   "source": [
    "# Create a Pandas DataFrame with the data of professors\n",
    "df_professors = pd.DataFrame(data_professors)\n",
    "\n",
    "# Save the DataFrame directly to an Excel sheet\n",
    "with pd.ExcelWriter('df_professors.xlsx', engine='xlsxwriter') as writer:\n",
    "    df_professors.to_excel(writer, sheet_name='Sheet1', index=False)\n"
   ]
  }
 ],
 "metadata": {
  "kernelspec": {
   "display_name": "Python 3",
   "language": "python",
   "name": "python3"
  },
  "language_info": {
   "codemirror_mode": {
    "name": "ipython",
    "version": 3
   },
   "file_extension": ".py",
   "mimetype": "text/x-python",
   "name": "python",
   "nbconvert_exporter": "python",
   "pygments_lexer": "ipython3",
   "version": "3.12.2"
  }
 },
 "nbformat": 4,
 "nbformat_minor": 2
}
